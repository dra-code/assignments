{
 "cells": [
  {
   "cell_type": "code",
   "execution_count": null,
   "metadata": {
    "tags": []
   },
   "outputs": [],
   "source": [
    "# Task:\n",
    "\n",
    "# Find out if a given number is an \"Armstrong Number\".\n",
    "\n",
    "# An n-digit number that is the sum of the nth powers of its digits is called an n-Armstrong number. Examples :\n",
    "# 371 = 3**3 + 7**3 + 1**3;\n",
    "# 9474 = 9**4 + 4**4 + 7**4 + 4**4;\n",
    "# 93084 = 9**5 + 3**5 + 0**5 + 8**5 + 4**5.\n",
    "\n",
    "# Write a Python program that;\n",
    "# takes a positive integer number from the user,\n",
    "# checks the entered number if it is Armstrong,\n",
    "# consider the negative, float and any entries other than numeric values then display a warning message to the user.\n",
    "\n",
    "number = input(\"Please Enter a (+) intiger to see if it is an 'Armstrong Number': \").strip()\n",
    "\n",
    "if ({','} & set(number)) or ({'.'} & set(number)):\n",
    "    print('Please enter an integer number')\n",
    "elif number[0] == '-' and number[1:].isdigit(): \n",
    "    print('Please enter a positive number')\n",
    "elif number.isdigit():\n",
    "    n_l = list(number)\n",
    "    x = 0\n",
    "    for i in n_l:\n",
    "        x += int(i) ** len(number)\n",
    "    if x == int(number):\n",
    "        print(number, 'is an Armstrong number')\n",
    "    else:\n",
    "        print(number, 'is not an Armstrong number')\n",
    "else:\n",
    "    print('Do not use any entries other than numeric values')\n",
    "\n"
   ]
  },
  {
   "cell_type": "code",
   "execution_count": null,
   "metadata": {},
   "outputs": [],
   "source": []
  }
 ],
 "metadata": {
  "language_info": {
   "codemirror_mode": {
    "name": "ipython",
    "version": 3
   },
   "file_extension": ".py",
   "mimetype": "text/x-python",
   "name": "python",
   "nbconvert_exporter": "python",
   "pygments_lexer": "ipython3",
   "version": "3.8.3-final"
  },
  "orig_nbformat": 2,
  "kernelspec": {
   "name": "python38332bit9ab0f47795e346448f92a616dfba95f2",
   "display_name": "Python 3.8.3 32-bit"
  }
 },
 "nbformat": 4,
 "nbformat_minor": 2
}
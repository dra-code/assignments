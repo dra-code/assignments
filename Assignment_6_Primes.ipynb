{
 "cells": [
  {
   "cell_type": "code",
   "execution_count": null,
   "metadata": {
    "tags": []
   },
   "outputs": [],
   "source": [
    "# Task : \n",
    "# Print the prime numbers which are between 1 to entered limit number (n)\n",
    "\n",
    "n = input('Enter a number: ')\n",
    "l = []\n",
    "n = int(n)\n",
    "for i in range(1, n):\n",
    "    n1 = int(i / 2)\n",
    "    prime = True\n",
    "    for ii in range(2, n1):\n",
    "        if i % ii == 0:\n",
    "            prime = False\n",
    "    if i != 2 and i != 4 and prime == True:\n",
    "        l.append(i)\n",
    "print('Prime Numbers between 1 and', n, 'are: ')\n",
    "print(l)"
   ]
  },
  {
   "cell_type": "code",
   "execution_count": null,
   "metadata": {},
   "outputs": [],
   "source": []
  }
 ],
 "metadata": {
  "language_info": {
   "codemirror_mode": {
    "name": "ipython",
    "version": 3
   },
   "file_extension": ".py",
   "mimetype": "text/x-python",
   "name": "python",
   "nbconvert_exporter": "python",
   "pygments_lexer": "ipython3",
   "version": 3
  },
  "orig_nbformat": 2,
  "kernelspec": {
   "name": "python_defaultSpec_1594982582355",
   "display_name": "Python 3.8.3 32-bit"
  }
 },
 "nbformat": 4,
 "nbformat_minor": 2
}
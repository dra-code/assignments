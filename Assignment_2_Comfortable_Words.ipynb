{
 "cells": [
  {
   "cell_type": "code",
   "execution_count": null,
   "metadata": {
    "tags": []
   },
   "outputs": [],
   "source": [
    "# Task : \n",
    "\n",
    "# Find out if the given word is \"comfortable words\" in relation to the ten-finger keyboard use.\n",
    "\n",
    "# A comfortable word is a word which you can type always alternating the hand you type with (assuming you type using a Q-keyboard and use of the # ten-fingers standard).\n",
    "# The word will always be a string consisting of only letters from a to z.\n",
    "# Write a program to returns True if it's a comfortable word or False otherwise.\n",
    "\n",
    "# Examples\n",
    "# Given  word\tDesired Output (explanation)\n",
    "# tester\tFalse (uses only left-hand fingers)*\n",
    "# polly\tFalse (uses only right-hand fingers)*\n",
    "# clarusway\tTrue (uses both hand fingers)*\n",
    "\n",
    "comfortable_word = input('Enter a word to see if it is a comfortable word: ')\n",
    "cw = set(comfortable_word)\n",
    "l = set('qwertasdfgzxcvb')\n",
    "r = set('yuiophjklnm')\n",
    "\n",
    "if ((l | r) & cw) != cw:\n",
    "    print('Word must be comprised of characters from a to z.')\n",
    "elif cw.intersection(left_hand) and cw.intersection(right_hand):\n",
    "    print(True)\n",
    "else:\n",
    "    print(False)"
   ]
  }
 ],
 "metadata": {
  "language_info": {
   "codemirror_mode": {
    "name": "ipython",
    "version": 3
   },
   "file_extension": ".py",
   "mimetype": "text/x-python",
   "name": "python",
   "nbconvert_exporter": "python",
   "pygments_lexer": "ipython3",
   "version": "3.8.3-final"
  },
  "orig_nbformat": 2,
  "kernelspec": {
   "name": "python38332bit9ab0f47795e346448f92a616dfba95f2",
   "display_name": "Python 3.8.3 32-bit"
  }
 },
 "nbformat": 4,
 "nbformat_minor": 2
}
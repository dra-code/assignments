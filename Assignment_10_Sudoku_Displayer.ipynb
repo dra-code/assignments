{
 "metadata": {
  "language_info": {
   "codemirror_mode": {
    "name": "ipython",
    "version": 3
   },
   "file_extension": ".py",
   "mimetype": "text/x-python",
   "name": "python",
   "nbconvert_exporter": "python",
   "pygments_lexer": "ipython3",
   "version": 3
  },
  "orig_nbformat": 2
 },
 "nbformat": 4,
 "nbformat_minor": 2,
 "cells": [
  {
   "cell_type": "code",
   "execution_count": null,
   "metadata": {},
   "outputs": [],
   "source": [
    "# Task: \n",
    "# The department you work for has received a project that displays the solved sudoku puzzles in a digital environment.\n",
    "# Write a Python code to print out the given sudoku puzzle matrix in the following format.\n",
    "# - - - - - - - - - - - - - - - \n",
    "# 0  0  0  | 0  6  4  | 0  0  0  \n",
    "# 7  0  0  | 0  0  0  | 3  9  0  \n",
    "# 8  0  0  | 0  0  0  | 0  0  0  \n",
    "# - - - - - - - - - - - - - - - \n",
    "# 0  0  0  | 5  0  2  | 0  6  0  \n",
    "# 0  8  0  | 4  0  0  | 0  0  0  \n",
    "# 3  5  0  | 6  0  0  | 0  7  0  \n",
    "# - - - - - - - - - - - - - - - \n",
    "# 0  0  2  | 0  0  0  | 1  0  3  \n",
    "# 0  0  1  | 0  5  9  | 0  0  0  \n",
    "# 0  0  0  | 0  0  0  | 7  0  0  \n",
    "# - - - - - - - - - - - - - - -\n",
    "sudoku = [\n",
    "    [0, 0, 0, 0, 6, 4, 0, 0, 0],\n",
    "    [7, 0, 0, 0, 0, 0, 3, 9, 0],\n",
    "    [8, 0, 0, 0, 0, 0, 0, 0, 0],\n",
    "    [0, 0, 0, 5, 0, 2, 0, 6, 0],\n",
    "    [0, 8, 0, 4, 0, 0, 0, 0, 0],\n",
    "    [3, 5, 0, 6, 0, 0, 0, 7, 0],\n",
    "    [0, 0, 2, 0, 0, 0, 1, 0, 3],\n",
    "    [0, 0, 1, 0, 5, 9, 0, 0, 0],\n",
    "    [0, 0, 0, 0, 0, 0, 7, 0, 0]\n",
    "]\n",
    "\n",
    "h = '---------------------'\n",
    "\n",
    "print(h)\n",
    "for i in range(3):\n",
    "    for i in range(3):\n",
    "        sudoku[0].insert(3, '|')\n",
    "        sudoku[0].insert(7, '|')\n",
    "        print(*sudoku.pop(0))\n",
    "    print(h)"
   ]
  }
 ]
}
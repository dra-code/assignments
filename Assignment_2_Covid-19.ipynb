{
 "cells": [
  {
   "cell_type": "code",
   "execution_count": null,
   "metadata": {
    "tags": []
   },
   "outputs": [],
   "source": [
    "age =  input('Are you a cigarette addict older than 75 years old?').lower().strip()  \n",
    "chronic = input('Do you have a severe chronic disease?').lower().strip()\n",
    "immune =  input('Is your immune system too weak?').lower().strip()\n",
    "\n",
    "if age == 'yes' or chronic == 'yes' or immune == 'yes':\n",
    "    print('You are in a risk group!')\n",
    "else:\n",
    "    print('You are not in a risk group.')"
   ]
  },
  {
   "cell_type": "code",
   "execution_count": null,
   "metadata": {},
   "outputs": [],
   "source": []
  }
 ],
 "metadata": {
  "language_info": {
   "codemirror_mode": {
    "name": "ipython",
    "version": 3
   },
   "file_extension": ".py",
   "mimetype": "text/x-python",
   "name": "python",
   "nbconvert_exporter": "python",
   "pygments_lexer": "ipython3",
   "version": "3.8.3-final"
  },
  "orig_nbformat": 2,
  "kernelspec": {
   "name": "python38332bit9ab0f47795e346448f92a616dfba95f2",
   "display_name": "Python 3.8.3 32-bit"
  }
 },
 "nbformat": 4,
 "nbformat_minor": 2
}
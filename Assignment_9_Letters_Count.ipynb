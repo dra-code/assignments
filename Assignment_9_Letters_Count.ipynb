{
 "metadata": {
  "language_info": {
   "codemirror_mode": {
    "name": "ipython",
    "version": 3
   },
   "file_extension": ".py",
   "mimetype": "text/x-python",
   "name": "python",
   "nbconvert_exporter": "python",
   "pygments_lexer": "ipython3",
   "version": 3
  },
  "orig_nbformat": 2
 },
 "nbformat": 4,
 "nbformat_minor": 2,
 "cells": [
  {
   "cell_type": "code",
   "execution_count": null,
   "metadata": {},
   "outputs": [],
   "source": [
    "# Task:\n",
    "# Count the number of each letter in a sentence.\n",
    "# The department you work for undertook a project construction that makes word / text analysis. You are asked to calculate the number of letters # or any chars in the sentences entered under this project.\n",
    "# Write a Python program that;\n",
    "# takes a sentence from the user,\n",
    "# counts the number of each letter of the sentence,\n",
    "# collects the letters/chars as a key and the counted numbers as a value in a dictionary.\n",
    "\n",
    "l = list(input('Please enter any sentence to get a letter/char count: '))\n",
    "\n",
    "s = set(l)\n",
    "\n",
    "print({i : l.count(i) for i in s})"
   ]
  }
 ]
}